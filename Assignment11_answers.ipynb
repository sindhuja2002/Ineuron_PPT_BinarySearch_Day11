{
  "nbformat": 4,
  "nbformat_minor": 0,
  "metadata": {
    "colab": {
      "provenance": []
    },
    "kernelspec": {
      "name": "python3",
      "display_name": "Python 3"
    },
    "language_info": {
      "name": "python"
    }
  },
  "cells": [
    {
      "cell_type": "code",
      "execution_count": 20,
      "metadata": {
        "colab": {
          "base_uri": "https://localhost:8080/"
        },
        "id": "IeJYszP44mEL",
        "outputId": "7b2c80b3-112c-426a-f397-658cb8bc4435"
      },
      "outputs": [
        {
          "output_type": "stream",
          "name": "stdout",
          "text": [
            "2\n",
            "2\n"
          ]
        }
      ],
      "source": [
        "#question 1\n",
        "def mySqrt(x):\n",
        "    if x == 0:\n",
        "        return 0\n",
        "\n",
        "    left, right = 1, x\n",
        "    while left <= right:\n",
        "        mid = left + (right - left) // 2\n",
        "        if mid * mid == x:\n",
        "            return mid\n",
        "        elif mid * mid > x:\n",
        "            right = mid - 1\n",
        "        else:\n",
        "            left = mid + 1\n",
        "\n",
        "    return right\n",
        "\n",
        "# Test cases\n",
        "print(mySqrt(4))  # Output: 2\n",
        "print(mySqrt(8))  # Output: 2\n",
        "\n",
        "#TC - O(logx)\n",
        "#SC - O(1)"
      ]
    },
    {
      "cell_type": "code",
      "source": [
        "#question 2\n",
        "def findPeakElement(nums):\n",
        "    left, right = 0, len(nums) - 1\n",
        "\n",
        "    while left < right:\n",
        "        mid = left + (right - left) // 2\n",
        "\n",
        "        if nums[mid] < nums[mid + 1]:\n",
        "            left = mid + 1\n",
        "        else:\n",
        "            right = mid\n",
        "\n",
        "    return left\n",
        "\n",
        "# Test cases\n",
        "print(findPeakElement([1, 2, 3, 1]))  # Output: 2\n",
        "print(findPeakElement([1, 2, 1, 3, 5, 6, 4]))  # Output: 5\n",
        "\n",
        "#TC - O(logn)\n",
        "#SC - O(1)"
      ],
      "metadata": {
        "colab": {
          "base_uri": "https://localhost:8080/"
        },
        "id": "wAGFzCyE40JT",
        "outputId": "2a176ba6-2f51-4136-e1c6-f44d65142044"
      },
      "execution_count": 19,
      "outputs": [
        {
          "output_type": "stream",
          "name": "stdout",
          "text": [
            "2\n",
            "5\n"
          ]
        }
      ]
    },
    {
      "cell_type": "code",
      "source": [
        "#question 3\n",
        "def missingNumber(nums):\n",
        "    n = len(nums)\n",
        "    expected_sum = (n * (n + 1)) // 2\n",
        "    actual_sum = sum(nums)\n",
        "    return expected_sum - actual_sum\n",
        "\n",
        "# Test cases\n",
        "print(missingNumber([3, 0, 1]))  # Output: 2\n",
        "print(missingNumber([0, 1]))  # Output: 2\n",
        "print(missingNumber([9, 6, 4, 2, 3, 5, 7, 0, 1]))  # Output: 8\n",
        "\n",
        "#TC - O(n)\n",
        "#SC - O(1)"
      ],
      "metadata": {
        "colab": {
          "base_uri": "https://localhost:8080/"
        },
        "id": "7zjz865j5ZWT",
        "outputId": "5de761c8-d728-4637-a48b-33e46ae538db"
      },
      "execution_count": 18,
      "outputs": [
        {
          "output_type": "stream",
          "name": "stdout",
          "text": [
            "2\n",
            "2\n",
            "8\n"
          ]
        }
      ]
    },
    {
      "cell_type": "code",
      "source": [
        "#question 4\n",
        "def findDuplicate(nums):\n",
        "    slow = nums[0]\n",
        "    fast = nums[0]\n",
        "\n",
        "    # Find the intersection point of the two pointers\n",
        "    while True:\n",
        "        slow = nums[slow]\n",
        "        fast = nums[nums[fast]]\n",
        "        if slow == fast:\n",
        "            break\n",
        "\n",
        "    # Move the slow pointer to the start of the array\n",
        "    slow = nums[0]\n",
        "\n",
        "    # Find the entrance to the cycle (repeated number)\n",
        "    while slow != fast:\n",
        "        slow = nums[slow]\n",
        "        fast = nums[fast]\n",
        "\n",
        "    return slow\n",
        "\n",
        "# Test cases\n",
        "print(findDuplicate([1, 3, 4, 2, 2]))  # Output: 2\n",
        "print(findDuplicate([3, 1, 3, 4, 2]))  # Output: 3\n",
        "\n",
        "\n",
        "#TC - O(n)\n",
        "#SC - O(1)"
      ],
      "metadata": {
        "colab": {
          "base_uri": "https://localhost:8080/"
        },
        "id": "AqHHbidt59TX",
        "outputId": "0127a0da-b207-46a7-dda7-f2982a98fcbd"
      },
      "execution_count": 17,
      "outputs": [
        {
          "output_type": "stream",
          "name": "stdout",
          "text": [
            "2\n",
            "3\n"
          ]
        }
      ]
    },
    {
      "cell_type": "code",
      "source": [
        "#question 5\n",
        "def intersection(nums1, nums2):\n",
        "    set1 = set(nums1)\n",
        "    set2 = set(nums2)\n",
        "    return list(set1.intersection(set2))\n",
        "\n",
        "# Test cases\n",
        "print(intersection([1, 2, 2, 1], [2, 2]))  # Output: [2]\n",
        "print(intersection([4, 9, 5], [9, 4, 9, 8, 4]))  # Output: [9, 4]\n",
        "\n",
        "#TC - O(m+n)\n",
        "#SC - O(m+n)"
      ],
      "metadata": {
        "colab": {
          "base_uri": "https://localhost:8080/"
        },
        "id": "bfsY0WoS6m4v",
        "outputId": "75875c51-7293-42a2-c108-d645c369600b"
      },
      "execution_count": 16,
      "outputs": [
        {
          "output_type": "stream",
          "name": "stdout",
          "text": [
            "[2]\n",
            "[9, 4]\n"
          ]
        }
      ]
    },
    {
      "cell_type": "code",
      "source": [
        "#question 6\n",
        "def findMin(nums):\n",
        "    left = 0\n",
        "    right = len(nums) - 1\n",
        "\n",
        "    # Binary search to find the minimum element\n",
        "    while left < right:\n",
        "        mid = left + (right - left) // 2\n",
        "\n",
        "        # If the middle element is greater than the last element, the right half is sorted\n",
        "        if nums[mid] > nums[right]:\n",
        "            left = mid + 1\n",
        "        # If the middle element is less than the last element, the left half is sorted\n",
        "        else:\n",
        "            right = mid\n",
        "\n",
        "    # The minimum element will be at index left\n",
        "    return nums[left]\n",
        "\n",
        "# Test cases\n",
        "print(findMin([3, 4, 5, 1, 2]))  # Output: 1\n",
        "print(findMin([4, 5, 6, 7, 0, 1, 2]))  # Output: 0\n",
        "print(findMin([11, 13, 15, 17]))  # Output: 11\n",
        "\n",
        "#TC - O(logn)\n",
        "#SC - O(1)"
      ],
      "metadata": {
        "colab": {
          "base_uri": "https://localhost:8080/"
        },
        "id": "QpPvkuju7pMN",
        "outputId": "7812fb22-83b0-45f8-9b99-17c9deb7f6e6"
      },
      "execution_count": 15,
      "outputs": [
        {
          "output_type": "stream",
          "name": "stdout",
          "text": [
            "1\n",
            "0\n",
            "11\n"
          ]
        }
      ]
    },
    {
      "cell_type": "code",
      "source": [
        "#question 7\n",
        "def searchRange(nums, target):\n",
        "    def findLeftmost(nums, target):\n",
        "        left = 0\n",
        "        right = len(nums) - 1\n",
        "        index = -1\n",
        "\n",
        "        while left <= right:\n",
        "            mid = left + (right - left) // 2\n",
        "\n",
        "            if nums[mid] >= target:\n",
        "                right = mid - 1\n",
        "            else:\n",
        "                left = mid + 1\n",
        "\n",
        "            if nums[mid] == target:\n",
        "                index = mid\n",
        "\n",
        "        return index\n",
        "\n",
        "    def findRightmost(nums, target):\n",
        "        left = 0\n",
        "        right = len(nums) - 1\n",
        "        index = -1\n",
        "\n",
        "        while left <= right:\n",
        "            mid = left + (right - left) // 2\n",
        "\n",
        "            if nums[mid] <= target:\n",
        "                left = mid + 1\n",
        "            else:\n",
        "                right = mid - 1\n",
        "\n",
        "            if nums[mid] == target:\n",
        "                index = mid\n",
        "\n",
        "        return index\n",
        "\n",
        "    leftmost = findLeftmost(nums, target)\n",
        "    rightmost = findRightmost(nums, target)\n",
        "\n",
        "    return [leftmost, rightmost]\n",
        "\n",
        "# Test cases\n",
        "print(searchRange([5, 7, 7, 8, 8, 10], 8))  # Output: [3, 4]\n",
        "print(searchRange([5, 7, 7, 8, 8, 10], 6))  # Output: [-1, -1]\n",
        "print(searchRange([], 0))  # Output: [-1, -1]\n",
        "\n",
        "#TC - O(logn)\n",
        "#SC - O(1)"
      ],
      "metadata": {
        "colab": {
          "base_uri": "https://localhost:8080/"
        },
        "id": "g75a7slc8y7q",
        "outputId": "42612419-4c2e-4549-8152-d0003067c19b"
      },
      "execution_count": 14,
      "outputs": [
        {
          "output_type": "stream",
          "name": "stdout",
          "text": [
            "[3, 4]\n",
            "[-1, -1]\n",
            "[-1, -1]\n"
          ]
        }
      ]
    },
    {
      "cell_type": "code",
      "source": [
        "#question 8\n",
        "from collections import Counter\n",
        "\n",
        "def intersect(nums1, nums2):\n",
        "    counter1 = Counter(nums1)\n",
        "    counter2 = Counter(nums2)\n",
        "\n",
        "    intersection = []\n",
        "    for num in counter1:\n",
        "        if num in counter2:\n",
        "            count = min(counter1[num], counter2[num])\n",
        "            intersection.extend([num] * count)\n",
        "\n",
        "    return intersection\n",
        "\n",
        "# Test cases\n",
        "print(intersect([1, 2, 2, 1], [2, 2]))  # Output: [2, 2]\n",
        "print(intersect([4, 9, 5], [9, 4, 9, 8, 4]))  # Output: [4, 9]\n",
        "\n",
        "#TC - O(m+n)\n",
        "#SC - O(m+n)"
      ],
      "metadata": {
        "colab": {
          "base_uri": "https://localhost:8080/"
        },
        "id": "1M8zPU4c9iBO",
        "outputId": "ea696e27-c57d-4956-c342-ca2e2e72445e"
      },
      "execution_count": 22,
      "outputs": [
        {
          "output_type": "stream",
          "name": "stdout",
          "text": [
            "[2, 2]\n",
            "[4, 9]\n"
          ]
        }
      ]
    },
    {
      "cell_type": "code",
      "source": [],
      "metadata": {
        "id": "DcZz71H5-ZtK"
      },
      "execution_count": null,
      "outputs": []
    }
  ]
}